{
 "metadata": {
  "language_info": {
   "codemirror_mode": {
    "name": "ipython",
    "version": 3
   },
   "file_extension": ".py",
   "mimetype": "text/x-python",
   "name": "python",
   "nbconvert_exporter": "python",
   "pygments_lexer": "ipython3",
   "version": "3.9.5"
  },
  "orig_nbformat": 4,
  "kernelspec": {
   "name": "python3",
   "display_name": "Python 3.9.5 64-bit ('cs_anal': conda)"
  },
  "interpreter": {
   "hash": "9bfa631ea930b72ae29d1da66c3a52d51998c11db638b0a793d62f0d28a5afca"
  }
 },
 "nbformat": 4,
 "nbformat_minor": 2,
 "cells": [
  {
   "cell_type": "code",
   "execution_count": 5,
   "metadata": {},
   "outputs": [],
   "source": [
    "from sec_edgar_downloader import Downloader\n",
    "import glob\n",
    "\n",
    "#docs: https://sec-edgar-downloader.readthedocs.io/en/latest/"
   ]
  },
  {
   "cell_type": "code",
   "execution_count": 8,
   "metadata": {
    "tags": []
   },
   "outputs": [
    {
     "output_type": "stream",
     "name": "stdout",
     "text": [
      "JPM 8-K & 10-K reports downloaded previously\n",
      "MS 8-K & 10-K reports downloaded previously\n",
      "GS 8-K & 10-K reports downloaded previously\n",
      "BAC 8-K & 10-K reports downloaded previously\n",
      "BK 8-K & 10-K reports downloaded previously\n",
      "STT 8-K & 10-K reports downloaded previously\n",
      "WFC 8-K & 10-K reports downloaded previously\n",
      "AXP 8-K & 10-K reports downloaded previously\n",
      "DOW 8-K & 10-K reports downloaded previously\n",
      "LIN 8-K & 10-K reports downloaded previously\n",
      "CBRE 8-K & 10-K reports downloaded previously\n",
      "MAR 8-K & 10-K reports downloaded previously\n",
      "VZ 8-K & 10-K reports downloaded previously\n",
      "T 8-K & 10-K reports downloaded previously\n",
      "CAT 8-K & 10-K reports downloaded previously\n",
      "NOC 8-K & 10-K reports downloaded previously\n",
      "GD 8-K & 10-K reports downloaded previously\n",
      "ADM 8-K & 10-K reports downloaded previously\n",
      "TSN 8-K & 10-K reports downloaded previously\n",
      "CVS 8-K & 10-K reports downloaded previously\n",
      "Downlading 8-K reports for NHYDY...\n",
      "Downlading 10-K reports for NHYDY...\n"
     ]
    }
   ],
   "source": [
    "companies = open(\"companies.txt\").read().splitlines()\n",
    "\n",
    "date_after = \"2000-01-01\"\n",
    "\n",
    "for company in companies:\n",
    "\n",
    "    # Check if previously downloaded reports and skips if so\n",
    "    check_path = glob.glob(f'sec-edgar-filings/{company}/*/*/*')\n",
    "    if check_path != []:\n",
    "        print(f\"{company} 8-K & 10-K reports downloaded previously\")\n",
    "        continue\n",
    "\n",
    "    # Initialize a downloader instance. \n",
    "    dl = Downloader()\n",
    "\n",
    "    # Get all 8-K filings\n",
    "    print(f\"Downlading 8-K reports for {company}...\") \n",
    "    dl.get(\"8-K\", company, after=date_after)\n",
    "\n",
    "    # Get all 10-K filings\n",
    "    print(f\"Downlading 10-K reports for {company}...\") \n",
    "    dl.get(\"10-K\", company, after=date_after)"
   ]
  },
  {
   "cell_type": "code",
   "execution_count": null,
   "metadata": {},
   "outputs": [],
   "source": []
  }
 ]
}
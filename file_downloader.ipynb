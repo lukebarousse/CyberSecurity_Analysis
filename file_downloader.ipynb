{
 "metadata": {
  "language_info": {
   "codemirror_mode": {
    "name": "ipython",
    "version": 3
   },
   "file_extension": ".py",
   "mimetype": "text/x-python",
   "name": "python",
   "nbconvert_exporter": "python",
   "pygments_lexer": "ipython3",
   "version": "3.9.5"
  },
  "orig_nbformat": 4,
  "kernelspec": {
   "name": "python3",
   "display_name": "Python 3.9.5 64-bit ('cs_anal': conda)"
  },
  "interpreter": {
   "hash": "9bfa631ea930b72ae29d1da66c3a52d51998c11db638b0a793d62f0d28a5afca"
  }
 },
 "nbformat": 4,
 "nbformat_minor": 2,
 "cells": [
  {
   "cell_type": "code",
   "execution_count": 1,
   "metadata": {},
   "outputs": [],
   "source": [
    "from sec_edgar_downloader import Downloader\n",
    "\n",
    "#docs: https://sec-edgar-downloader.readthedocs.io/en/latest/"
   ]
  },
  {
   "cell_type": "code",
   "execution_count": 2,
   "metadata": {},
   "outputs": [],
   "source": [
    "companies = open(\"companies.txt\").read().splitlines()\n",
    "\n",
    "date_after = \"2017-01-01\"\n",
    "\n",
    "for company in companies:\n",
    "    # Initialize a downloader instance. \n",
    "    dl = Downloader()\n",
    "\n",
    "    # Get all 8-K filings \n",
    "    dl.get(\"8-K\", company, after=date_after)\n",
    "\n",
    "    # Get all 10-K filings\n",
    "    dl.get(\"10-K\", company, after=date_after)"
   ]
  }
 ]
}